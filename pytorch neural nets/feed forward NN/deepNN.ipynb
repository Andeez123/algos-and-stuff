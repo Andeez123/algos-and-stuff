{
 "cells": [
  {
   "cell_type": "code",
   "execution_count": 18,
   "id": "861ff457",
   "metadata": {},
   "outputs": [],
   "source": [
    "import os\n",
    "import numpy as np\n",
    "from sklearn.datasets import load_svmlight_file\n",
    "from sklearn.model_selection import train_test_split\n",
    "from sklearn import preprocessing"
   ]
  },
  {
   "cell_type": "code",
   "execution_count": 19,
   "id": "2c8b8dc5",
   "metadata": {},
   "outputs": [
    {
     "name": "stdout",
     "output_type": "stream",
     "text": [
      "[26. 16. 19. ...  1. 12. 22.]\n"
     ]
    }
   ],
   "source": [
    "# loadig the dataset\n",
    "data_file_name= \"letter_scale.libsvm\"\n",
    "file_path = os.path.abspath(\"./Tut02_data/Data/\" + data_file_name)\n",
    "X_data, y_data = load_svmlight_file(file_path)\n",
    "print(y_data)\n",
    "X_data = X_data.toarray()\n",
    "# y_data = y_data.reshape(y_data.shape[0], -1)"
   ]
  },
  {
   "cell_type": "code",
   "execution_count": 24,
   "id": "668f3359",
   "metadata": {},
   "outputs": [
    {
     "name": "stdout",
     "output_type": "stream",
     "text": [
      "[[-0.733333  -0.466667  -0.466667  -0.6       -0.733333  -0.0666667\n",
      "   0.0666667 -0.733333   0.2        0.466667  -0.0666667 -0.0666667\n",
      "  -0.866667   0.0666667 -0.333333  -0.2      ]\n",
      " [-0.466667  -0.0666667 -0.333333  -0.333333  -0.333333  -0.333333\n",
      "   0.2       -0.2       -0.466667   0.0666667 -0.0666667  0.2\n",
      "  -0.733333   0.2       -0.0666667  0.333333 ]]\n"
     ]
    }
   ],
   "source": [
    "print(X_data[0:2])"
   ]
  },
  {
   "cell_type": "code",
   "execution_count": 25,
   "id": "2fd41ef2",
   "metadata": {},
   "outputs": [],
   "source": [
    "# split the data into train, valid and test\n",
    "def train_valid_test_split(data, target, train_size, test_size):\n",
    "    valid_size = 1 - (train_size + test_size)\n",
    "\n",
    "    X1, X_test, y1, y_test = train_test_split(data, target, test_size=test_size, random_state = 123)\n",
    "    X_train, X_valid, y_train, y_valid = train_test_split(X1, y1, test_size=float(valid_size)/(valid_size+ train_size))\n",
    "    return X_train, X_valid, X_test, y_train, y_valid, y_test"
   ]
  },
  {
   "cell_type": "markdown",
   "id": "bfbd1884",
   "metadata": {},
   "source": [
    "label encoding: categorical labels -> numerical vector"
   ]
  },
  {
   "cell_type": "code",
   "execution_count": 26,
   "id": "87822f57",
   "metadata": {},
   "outputs": [
    {
     "name": "stdout",
     "output_type": "stream",
     "text": [
      "[26. 16. 19. ...  1. 12. 22.]\n"
     ]
    }
   ],
   "source": [
    "print(y_data)"
   ]
  },
  {
   "cell_type": "code",
   "execution_count": 27,
   "id": "e33f6327",
   "metadata": {},
   "outputs": [
    {
     "name": "stdout",
     "output_type": "stream",
     "text": [
      "[25 15 18 ...  0 11 21]\n"
     ]
    }
   ],
   "source": [
    "le = preprocessing.LabelEncoder()\n",
    "le.fit(y_data.ravel())\n",
    "y_data = le.transform(y_data.ravel())\n",
    "y_data = y_data.ravel()\n",
    "print(y_data)"
   ]
  },
  {
   "cell_type": "code",
   "execution_count": 28,
   "id": "2309902b",
   "metadata": {},
   "outputs": [],
   "source": [
    "X_train, X_valid, X_test, y_train, y_valid, y_test = train_valid_test_split(X_data, y_data, train_size=0.8, test_size=0.1)\n"
   ]
  },
  {
   "cell_type": "code",
   "execution_count": 29,
   "id": "90f34a68",
   "metadata": {},
   "outputs": [
    {
     "name": "stdout",
     "output_type": "stream",
     "text": [
      "[22  9 21 ... 20 12 16]\n",
      "[22  9 21 ... 20 12 16]\n"
     ]
    }
   ],
   "source": [
    "print(y_train)\n",
    "print(y_train.reshape(-1))"
   ]
  },
  {
   "cell_type": "code",
   "execution_count": 30,
   "id": "7cde7137",
   "metadata": {},
   "outputs": [
    {
     "name": "stdout",
     "output_type": "stream",
     "text": [
      "[-0.466667   0.0666667 -0.2       -0.2       -0.0666667 -0.0666667\n",
      "  0.0666667 -0.333333  -0.6       -0.0666667  0.0666667  0.0666667\n",
      " -0.333333   0.0666667 -0.6        0.0666667]\n"
     ]
    }
   ],
   "source": [
    "print(X_train[0])"
   ]
  },
  {
   "cell_type": "code",
   "execution_count": 31,
   "id": "ae1444b3",
   "metadata": {},
   "outputs": [],
   "source": [
    "from torch.utils.data import Dataset, DataLoader\n",
    "import torch"
   ]
  },
  {
   "cell_type": "code",
   "execution_count": 32,
   "id": "372a1eab",
   "metadata": {},
   "outputs": [],
   "source": [
    "class MyDataset(Dataset):\n",
    "    def __init__(self, data, labels):\n",
    "        super(MyDataset, self).__init__()\n",
    "        assert data.shape[0] == labels.shape[0]\n",
    "        self.data = torch.tensor(data, dtype = torch.float32)\n",
    "        self.labels = torch.tensor(labels, dtype= torch.float32)\n",
    "    \n",
    "    def __len__(self):\n",
    "        return self.labels.shape[0]\n",
    "    \n",
    "    def __getitem__(self, idx):\n",
    "        return self.data[idx], self.labels[idx]"
   ]
  },
  {
   "cell_type": "code",
   "execution_count": 33,
   "id": "a215b8c2",
   "metadata": {},
   "outputs": [],
   "source": [
    "train_data = MyDataset(X_train, y_train)\n",
    "valid_data = MyDataset(X_valid, y_valid)\n",
    "test_data = MyDataset(X_test, y_test)"
   ]
  },
  {
   "cell_type": "code",
   "execution_count": 35,
   "id": "890b6c27",
   "metadata": {},
   "outputs": [],
   "source": [
    "train_loader = DataLoader(train_data, batch_size=64, shuffle=True)\n",
    "valid_loader = DataLoader(valid_data, batch_size=64, shuffle=True)\n",
    "test_loader = DataLoader(test_data, batch_size=64, shuffle=True)"
   ]
  },
  {
   "cell_type": "code",
   "execution_count": 41,
   "id": "f1cc3a1d",
   "metadata": {},
   "outputs": [
    {
     "name": "stdout",
     "output_type": "stream",
     "text": [
      "16\n",
      "26\n"
     ]
    }
   ],
   "source": [
    "n_features = int(X_train.shape[1])\n",
    "n_classes = len(np.unique(y_train))\n",
    "print(n_features)\n",
    "print(n_classes)"
   ]
  }
 ],
 "metadata": {
  "kernelspec": {
   "display_name": "Python 3",
   "language": "python",
   "name": "python3"
  },
  "language_info": {
   "codemirror_mode": {
    "name": "ipython",
    "version": 3
   },
   "file_extension": ".py",
   "mimetype": "text/x-python",
   "name": "python",
   "nbconvert_exporter": "python",
   "pygments_lexer": "ipython3",
   "version": "3.13.4"
  }
 },
 "nbformat": 4,
 "nbformat_minor": 5
}
